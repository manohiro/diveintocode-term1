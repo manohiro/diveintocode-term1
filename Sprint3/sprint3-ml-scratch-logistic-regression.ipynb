{
 "cells": [
  {
   "cell_type": "markdown",
   "metadata": {},
   "source": [
    "# ロジスティク回帰\n",
    "ロジスティク回帰とはある現状の発生率を、複数の因子の組み合わせとそれらの程度からモデル化する方法である。<br>\n",
    "ここで、ある現象の発生率$p(X)$を調べたいとする。<br>\n",
    "その原因となる可能性があるもの(因子・変数・説明変数・独立変数などと呼ばれる)$x_1,x_2,…,x_n$を考える。(因子をまとめて、$x=(x_1,x_2,…,x_n)と書ける。) <br>\n",
    "\n",
    "この現象を、因子が起こったときの条件付き確率として考えると、<br>\n",
    "\n",
    "$$p(X)=Probability(発生|x)$$\n",
    "\n",
    "と表現できる。 <br>\n",
    "また、関数$F(x_1,x_2,…,x_n)$を使って、<br>\n",
    "$$p(X) = Probability(発生|x)=F(x_1,x_2,…,x_n)$$\n",
    "とすると、$F$で$p(X)$をモデル化することができる。<br>\n",
    "ロジスティクス回帰分析では、この関数$F$にロジスティクス関数をを使います。<br>\n",
    "ロジスティクス関数$f$は、一般に$r$として、<br>\n",
    "$$f=\\frac{1}{1+\\exp(-r)}$$\n",
    "という形をしている。<br>\n",
    "今回の変数は、$x_1,x_2,…,x_n$の因子群(変数・説明変数・独立変数)である。これを <br>\n",
    "$$z=\\beta_0 + \\beta_1 x_1 + \\beta_2 x_2 + … + \\beta_n x_n$$\n",
    "の線形結合に合成して、\n",
    "$$f=\\frac{1}{1+\\exp(-z)}$$\n",
    "として発生確率をモデル化する。<br>\n",
    "なので、ロジスティク回帰分析では、ロジスティク関数を通じて、因子群と発生確率を結びつける。<br>\n",
    "$\\beta_0 + \\beta_1 x_1 + \\beta_2 x_2 + … + \\beta_n$は、回帰係数と呼ばれます。<br>\n",
    "このロジスティクス回帰モデルをデータから推定することをロジスティク回帰分析と言う。分析によって回帰係数が求まり、因子の影響と発生確率の関係を知ることができる。"
   ]
  },
  {
   "cell_type": "markdown",
   "metadata": {},
   "source": [
    "# 交差エントロピー誤差関数\n",
    "交差エントロピーは、「情報量」の「期待値」である。\n",
    "\n",
    "$$ \\begin{eqnarray} \n",
    "交差エントロピー &=& H(p,q) \\\\\n",
    " &=& 期待値 \\\\\n",
    " &=& \\sum _{x}確率 \\times 実現値 \\\\\n",
    " &=& \\sum _{x}確率 \\times 情報量 \\\\\n",
    " &=& \\sum _{x}p(x) \\times (-\\log q(x)) \\\\\n",
    " &=& - \\sum _{x}p(x) \\times \\log q(x)\\\\\n",
    "\\end{eqnarray}$$\n",
    "\n",
    "\n",
    "交差エントロピーは、試行を行って得られた情報量を間違った確率分布$q$を基にして算出したときの情報量の期待値である。<br>\n",
    "$p$...試行の確率 <br>\n",
    "$log(q)$...情報量 <br>\n",
    "- 式の意味 <br>\n",
    "  確率分布$q$が、正しい確率分布$p$と異なるほど大きい値になる。\n",
    "- 最小値\n",
    "  交差エントロピーは、正しい確率分布$p$と同じ時、最小値になる。\n",
    "  また、実際に代入するとわかりますが、$q$が$p$と同じ時、交差エントロピーの値はエントロピーのエントロピーの値と同じになる。"
   ]
  },
  {
   "cell_type": "markdown",
   "metadata": {},
   "source": [
    "# シグモイド関数\n",
    "シグモイド関数はの数式とグラフは以下になる。\n",
    "$$f(x)=\\dfrac{1}{1+e^{-ax}}\\: (a > 0)$$\n",
    "グラフからも分かるように以下のような性質がある。<br>\n",
    "1：f(0)=12 <br>\n",
    "2：limx→∞f(x)=1，limx→−∞f(x)=0 <br>\n",
    "3：f(x) は単調増加 <br>\n",
    "4：f(x)+f(−x)=1 。つまり y=f(x) は(0,12) に関して点対称。<br>\n",
    "シグモイド関数からの出力が必ず$0〜1$となるので、その範囲で閾値を設けることにより、二値分類をすることが可能となる。"
   ]
  },
  {
   "cell_type": "code",
   "execution_count": 6,
   "metadata": {},
   "outputs": [
    {
     "data": {
      "image/png": "[encoded data removed]",
      "text/plain": [
       "<Figure size 432x288 with 1 Axes>"
      ]
     },
     "metadata": {
      "needs_background": "light"
     },
     "output_type": "display_data"
    }
   ],
   "source": [
    "%matplotlib inline\n",
    "import matplotlib.pyplot as plt\n",
    "import numpy as np\n",
    "x = np.linspace(-10, 10, 100)\n",
    "y  = 1 /(1 + np.exp(-1 * x))\n",
    "plt.plot(x, y)\n",
    "plt.grid(which='major',color='black',linestyle='-')"
   ]
  },
  {
   "cell_type": "markdown",
   "metadata": {},
   "source": [
    "# 正則化\n",
    "## 正則化とは\n",
    "\n",
    "英語ではRegularizationと言う。正則化とは簡単に言うと「モデルの過適合を防ぐ」ために必要なものである。<br>\n",
    "過適合の問題は，予測・分類系の手法を用いる際には常に付き纏う問題で，分析においては必ず考慮しなくてはならない問題なのである。<br>\n",
    "前述したように正則化は「過適合」を防ぐためのものであるが，最近はそれだけでなく変数選択（モデル選択）を同時に行ってくれる正則化もあるようである。\n",
    "\n",
    "## L1,L2正則化\n",
    "英語ではL1正則化をLasso，L2正則化をRidgeといい，これらを取り入れた回帰分析をそれぞれ，LassoRegression, RidgeRegressionと言う。<br>\n",
    "Lasso正則化を取り入れた分析を行うと，データの持つ多数の変数から特に重要なものだけシステマティックに選択したモデル構築ができる。\n",
    "\n",
    "## Lasso(L1正則化)の利点\n",
    "Lassoの利点は多数の変数から特に重要なものをシステマティックに選んでモデル構築をしてくれるところである。<br>\n",
    "この利点を例えて言うと，リサイクルとゴミの分別に例えられる。Lassoを用いない回帰分析においては，結果を出す（リサイクル品を作る）ためには，ゴミと資源の分別（変数の選択）を，人間が行わなければなりません。しかしLassoを用いると，分別はLassoが自動で行い，有用と判断されたもの（資源）で結果を出している。<br>\n",
    "これは，ゴミか有用か判断が難しい変数でも，とりあえず入れておけばLassoが判断して分別してくれることを意味しており，これまで厳選された少しの変数でしか出来なかった分析が，不純物混じりの多くの変数でも可能となることを意味している。"
   ]
  },
  {
   "cell_type": "markdown",
   "metadata": {},
   "source": [
    "# 平均二乗誤差と交差エントロピー誤差\n",
    "回帰問題は予測値と正解値との差を定量として扱うことが可能なため、平均二乗誤差が使用可能である。しかし、分類問題の場合は正解ラベルに対して予測した結果が定量ではなく確率で帰ってくる。そのため、確率を情報量として扱う必要があるので、交差エントロピーを使用する。"
   ]
  }
 ],
 "metadata": {
  "kernelspec": {
   "display_name": "Python 3",
   "language": "python",
   "name": "python3"
  },
  "language_info": {
   "codemirror_mode": {
    "name": "ipython",
    "version": 3
   },
   "file_extension": ".py",
   "mimetype": "text/x-python",
   "name": "python",
   "nbconvert_exporter": "python",
   "pygments_lexer": "ipython3",
   "version": "3.6.6"
  },
  "toc": {
   "base_numbering": 1,
   "nav_menu": {},
   "number_sections": true,
   "sideBar": true,
   "skip_h1_title": false,
   "title_cell": "Table of Contents",
   "title_sidebar": "Contents",
   "toc_cell": false,
   "toc_position": {},
   "toc_section_display": true,
   "toc_window_display": true
  }
 },
 "nbformat": 4,
 "nbformat_minor": 2
}
